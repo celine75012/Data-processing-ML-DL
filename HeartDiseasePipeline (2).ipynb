{
  "nbformat": 4,
  "nbformat_minor": 0,
  "metadata": {
    "colab": {
      "provenance": []
    },
    "kernelspec": {
      "name": "python3",
      "display_name": "Python 3"
    },
    "language_info": {
      "name": "python"
    }
  },
  "cells": [
    {
      "cell_type": "code",
      "execution_count": 50,
      "metadata": {
        "id": "FJL_yuKMx2Bz"
      },
      "outputs": [],
      "source": [
        "#librairies utilisées\n",
        "import pandas as pd\n",
        "import numpy as np\n",
        "import matplotlib.pyplot as plt\n",
        "from sklearn.model_selection import train_test_split\n",
        "from sklearn.pipeline import Pipeline\n",
        "from sklearn.preprocessing import OneHotEncoder\n",
        "from sklearn.impute import SimpleImputer\n",
        "from sklearn.preprocessing import StandardScaler\n",
        "from sklearn.compose import ColumnTransformer\n",
        "from sklearn.preprocessing import FunctionTransformer\n",
        "from sklearn.model_selection import cross_val_score\n",
        "from sklearn.preprocessing import StandardScaler\n",
        "from sklearn.linear_model import LogisticRegression\n",
        "from sklearn.tree import DecisionTreeClassifier\n",
        "from sklearn.ensemble import RandomForestClassifier\n",
        "from sklearn.svm import SVC\n",
        "from sklearn.naive_bayes import GaussianNB\n",
        "from sklearn.neural_network import MLPClassifier\n",
        "from sklearn.metrics import accuracy_score\n",
        "from sklearn.metrics import roc_curve, auc"
      ]
    },
    {
      "cell_type": "markdown",
      "source": [
        "Le fichier HEART DISEASE contient des informations et des résultats médicaux concernant des patients. La variable TARGET indique la présence (1) ou non (0) d'une maladie cardiage chez le patient.\n",
        "Le principal objectif est de prédire la présence ou non d'une maladie cardiaque chez un patient."
      ],
      "metadata": {
        "id": "bme-GnVcypRO"
      }
    },
    {
      "cell_type": "markdown",
      "source": [
        "EXPLORATION DU JEU DE DONNEES"
      ],
      "metadata": {
        "id": "H-lVfWWOxm8Z"
      }
    },
    {
      "cell_type": "code",
      "source": [
        "#lecture du fichier\n",
        "df=pd.read_csv(\"heart_disease.csv.csv\", index_col=0, sep=',')\n",
        "df.head(5)"
      ],
      "metadata": {
        "colab": {
          "base_uri": "https://localhost:8080/",
          "height": 237
        },
        "id": "PEd2-FEFyIdz",
        "outputId": "fe332831-f446-471a-ee87-c7a61f9beab2"
      },
      "execution_count": 51,
      "outputs": [
        {
          "output_type": "execute_result",
          "data": {
            "text/plain": [
              "      age     sex  cp  trestbps   chol  fbs  restecg  thalach  exang  oldpeak  \\\n",
              "ID                                                                              \n",
              "1012   63    Male   3     145.0  233.0    1        0    150.0    0.0      2.3   \n",
              "1264   37    Male   2     130.0  250.0    0        1    187.0    0.0      3.5   \n",
              "1217   41  Female   1     130.0  204.0    0        0      NaN    0.0      1.4   \n",
              "1300   56    Male   1     120.0  236.0    0        1    178.0    0.0      0.8   \n",
              "1049   57  Female   0     120.0  354.0    0        1    163.0    1.0      0.6   \n",
              "\n",
              "      slope   ca  thal  target  \n",
              "ID                              \n",
              "1012      0  0.0     1     1.0  \n",
              "1264      0  0.0     2     1.0  \n",
              "1217      2  0.0     2     1.0  \n",
              "1300      2  0.0     2     1.0  \n",
              "1049      2  0.0     2     1.0  "
            ],
            "text/html": [
              "\n",
              "  <div id=\"df-cd5a0dbc-c3ac-466f-bc23-03d187f50892\">\n",
              "    <div class=\"colab-df-container\">\n",
              "      <div>\n",
              "<style scoped>\n",
              "    .dataframe tbody tr th:only-of-type {\n",
              "        vertical-align: middle;\n",
              "    }\n",
              "\n",
              "    .dataframe tbody tr th {\n",
              "        vertical-align: top;\n",
              "    }\n",
              "\n",
              "    .dataframe thead th {\n",
              "        text-align: right;\n",
              "    }\n",
              "</style>\n",
              "<table border=\"1\" class=\"dataframe\">\n",
              "  <thead>\n",
              "    <tr style=\"text-align: right;\">\n",
              "      <th></th>\n",
              "      <th>age</th>\n",
              "      <th>sex</th>\n",
              "      <th>cp</th>\n",
              "      <th>trestbps</th>\n",
              "      <th>chol</th>\n",
              "      <th>fbs</th>\n",
              "      <th>restecg</th>\n",
              "      <th>thalach</th>\n",
              "      <th>exang</th>\n",
              "      <th>oldpeak</th>\n",
              "      <th>slope</th>\n",
              "      <th>ca</th>\n",
              "      <th>thal</th>\n",
              "      <th>target</th>\n",
              "    </tr>\n",
              "    <tr>\n",
              "      <th>ID</th>\n",
              "      <th></th>\n",
              "      <th></th>\n",
              "      <th></th>\n",
              "      <th></th>\n",
              "      <th></th>\n",
              "      <th></th>\n",
              "      <th></th>\n",
              "      <th></th>\n",
              "      <th></th>\n",
              "      <th></th>\n",
              "      <th></th>\n",
              "      <th></th>\n",
              "      <th></th>\n",
              "      <th></th>\n",
              "    </tr>\n",
              "  </thead>\n",
              "  <tbody>\n",
              "    <tr>\n",
              "      <th>1012</th>\n",
              "      <td>63</td>\n",
              "      <td>Male</td>\n",
              "      <td>3</td>\n",
              "      <td>145.0</td>\n",
              "      <td>233.0</td>\n",
              "      <td>1</td>\n",
              "      <td>0</td>\n",
              "      <td>150.0</td>\n",
              "      <td>0.0</td>\n",
              "      <td>2.3</td>\n",
              "      <td>0</td>\n",
              "      <td>0.0</td>\n",
              "      <td>1</td>\n",
              "      <td>1.0</td>\n",
              "    </tr>\n",
              "    <tr>\n",
              "      <th>1264</th>\n",
              "      <td>37</td>\n",
              "      <td>Male</td>\n",
              "      <td>2</td>\n",
              "      <td>130.0</td>\n",
              "      <td>250.0</td>\n",
              "      <td>0</td>\n",
              "      <td>1</td>\n",
              "      <td>187.0</td>\n",
              "      <td>0.0</td>\n",
              "      <td>3.5</td>\n",
              "      <td>0</td>\n",
              "      <td>0.0</td>\n",
              "      <td>2</td>\n",
              "      <td>1.0</td>\n",
              "    </tr>\n",
              "    <tr>\n",
              "      <th>1217</th>\n",
              "      <td>41</td>\n",
              "      <td>Female</td>\n",
              "      <td>1</td>\n",
              "      <td>130.0</td>\n",
              "      <td>204.0</td>\n",
              "      <td>0</td>\n",
              "      <td>0</td>\n",
              "      <td>NaN</td>\n",
              "      <td>0.0</td>\n",
              "      <td>1.4</td>\n",
              "      <td>2</td>\n",
              "      <td>0.0</td>\n",
              "      <td>2</td>\n",
              "      <td>1.0</td>\n",
              "    </tr>\n",
              "    <tr>\n",
              "      <th>1300</th>\n",
              "      <td>56</td>\n",
              "      <td>Male</td>\n",
              "      <td>1</td>\n",
              "      <td>120.0</td>\n",
              "      <td>236.0</td>\n",
              "      <td>0</td>\n",
              "      <td>1</td>\n",
              "      <td>178.0</td>\n",
              "      <td>0.0</td>\n",
              "      <td>0.8</td>\n",
              "      <td>2</td>\n",
              "      <td>0.0</td>\n",
              "      <td>2</td>\n",
              "      <td>1.0</td>\n",
              "    </tr>\n",
              "    <tr>\n",
              "      <th>1049</th>\n",
              "      <td>57</td>\n",
              "      <td>Female</td>\n",
              "      <td>0</td>\n",
              "      <td>120.0</td>\n",
              "      <td>354.0</td>\n",
              "      <td>0</td>\n",
              "      <td>1</td>\n",
              "      <td>163.0</td>\n",
              "      <td>1.0</td>\n",
              "      <td>0.6</td>\n",
              "      <td>2</td>\n",
              "      <td>0.0</td>\n",
              "      <td>2</td>\n",
              "      <td>1.0</td>\n",
              "    </tr>\n",
              "  </tbody>\n",
              "</table>\n",
              "</div>\n",
              "      <button class=\"colab-df-convert\" onclick=\"convertToInteractive('df-cd5a0dbc-c3ac-466f-bc23-03d187f50892')\"\n",
              "              title=\"Convert this dataframe to an interactive table.\"\n",
              "              style=\"display:none;\">\n",
              "        \n",
              "  <svg xmlns=\"http://www.w3.org/2000/svg\" height=\"24px\"viewBox=\"0 0 24 24\"\n",
              "       width=\"24px\">\n",
              "    <path d=\"M0 0h24v24H0V0z\" fill=\"none\"/>\n",
              "    <path d=\"M18.56 5.44l.94 2.06.94-2.06 2.06-.94-2.06-.94-.94-2.06-.94 2.06-2.06.94zm-11 1L8.5 8.5l.94-2.06 2.06-.94-2.06-.94L8.5 2.5l-.94 2.06-2.06.94zm10 10l.94 2.06.94-2.06 2.06-.94-2.06-.94-.94-2.06-.94 2.06-2.06.94z\"/><path d=\"M17.41 7.96l-1.37-1.37c-.4-.4-.92-.59-1.43-.59-.52 0-1.04.2-1.43.59L10.3 9.45l-7.72 7.72c-.78.78-.78 2.05 0 2.83L4 21.41c.39.39.9.59 1.41.59.51 0 1.02-.2 1.41-.59l7.78-7.78 2.81-2.81c.8-.78.8-2.07 0-2.86zM5.41 20L4 18.59l7.72-7.72 1.47 1.35L5.41 20z\"/>\n",
              "  </svg>\n",
              "      </button>\n",
              "      \n",
              "  <style>\n",
              "    .colab-df-container {\n",
              "      display:flex;\n",
              "      flex-wrap:wrap;\n",
              "      gap: 12px;\n",
              "    }\n",
              "\n",
              "    .colab-df-convert {\n",
              "      background-color: #E8F0FE;\n",
              "      border: none;\n",
              "      border-radius: 50%;\n",
              "      cursor: pointer;\n",
              "      display: none;\n",
              "      fill: #1967D2;\n",
              "      height: 32px;\n",
              "      padding: 0 0 0 0;\n",
              "      width: 32px;\n",
              "    }\n",
              "\n",
              "    .colab-df-convert:hover {\n",
              "      background-color: #E2EBFA;\n",
              "      box-shadow: 0px 1px 2px rgba(60, 64, 67, 0.3), 0px 1px 3px 1px rgba(60, 64, 67, 0.15);\n",
              "      fill: #174EA6;\n",
              "    }\n",
              "\n",
              "    [theme=dark] .colab-df-convert {\n",
              "      background-color: #3B4455;\n",
              "      fill: #D2E3FC;\n",
              "    }\n",
              "\n",
              "    [theme=dark] .colab-df-convert:hover {\n",
              "      background-color: #434B5C;\n",
              "      box-shadow: 0px 1px 3px 1px rgba(0, 0, 0, 0.15);\n",
              "      filter: drop-shadow(0px 1px 2px rgba(0, 0, 0, 0.3));\n",
              "      fill: #FFFFFF;\n",
              "    }\n",
              "  </style>\n",
              "\n",
              "      <script>\n",
              "        const buttonEl =\n",
              "          document.querySelector('#df-cd5a0dbc-c3ac-466f-bc23-03d187f50892 button.colab-df-convert');\n",
              "        buttonEl.style.display =\n",
              "          google.colab.kernel.accessAllowed ? 'block' : 'none';\n",
              "\n",
              "        async function convertToInteractive(key) {\n",
              "          const element = document.querySelector('#df-cd5a0dbc-c3ac-466f-bc23-03d187f50892');\n",
              "          const dataTable =\n",
              "            await google.colab.kernel.invokeFunction('convertToInteractive',\n",
              "                                                     [key], {});\n",
              "          if (!dataTable) return;\n",
              "\n",
              "          const docLinkHtml = 'Like what you see? Visit the ' +\n",
              "            '<a target=\"_blank\" href=https://colab.research.google.com/notebooks/data_table.ipynb>data table notebook</a>'\n",
              "            + ' to learn more about interactive tables.';\n",
              "          element.innerHTML = '';\n",
              "          dataTable['output_type'] = 'display_data';\n",
              "          await google.colab.output.renderOutput(dataTable, element);\n",
              "          const docLink = document.createElement('div');\n",
              "          docLink.innerHTML = docLinkHtml;\n",
              "          element.appendChild(docLink);\n",
              "        }\n",
              "      </script>\n",
              "    </div>\n",
              "  </div>\n",
              "  "
            ]
          },
          "metadata": {},
          "execution_count": 51
        }
      ]
    },
    {
      "cell_type": "code",
      "source": [
        "#Info du fichier\n",
        "df.info()"
      ],
      "metadata": {
        "colab": {
          "base_uri": "https://localhost:8080/"
        },
        "id": "FjI84wpgygZn",
        "outputId": "b497b919-ca25-49f3-a406-595df9daf412"
      },
      "execution_count": 3,
      "outputs": [
        {
          "output_type": "stream",
          "name": "stdout",
          "text": [
            "<class 'pandas.core.frame.DataFrame'>\n",
            "Int64Index: 303 entries, 1012 to 1126\n",
            "Data columns (total 14 columns):\n",
            " #   Column    Non-Null Count  Dtype  \n",
            "---  ------    --------------  -----  \n",
            " 0   age       303 non-null    int64  \n",
            " 1   sex       303 non-null    object \n",
            " 2   cp        303 non-null    int64  \n",
            " 3   trestbps  302 non-null    float64\n",
            " 4   chol      300 non-null    float64\n",
            " 5   fbs       303 non-null    int64  \n",
            " 6   restecg   303 non-null    int64  \n",
            " 7   thalach   297 non-null    float64\n",
            " 8   exang     297 non-null    float64\n",
            " 9   oldpeak   303 non-null    float64\n",
            " 10  slope     303 non-null    int64  \n",
            " 11  ca        300 non-null    float64\n",
            " 12  thal      303 non-null    int64  \n",
            " 13  target    300 non-null    float64\n",
            "dtypes: float64(7), int64(6), object(1)\n",
            "memory usage: 35.5+ KB\n"
          ]
        }
      ]
    },
    {
      "cell_type": "code",
      "source": [
        "#présence de duplicata et/ou valeurs manquantes\n",
        "print('Duplicata : ', df.duplicated().sum())\n",
        "print('Valeurs manquantes:', df.isna().sum())\n",
        "print(df.shape)"
      ],
      "metadata": {
        "colab": {
          "base_uri": "https://localhost:8080/"
        },
        "id": "RF2ZlH-XzVDr",
        "outputId": "49fd6e5c-6fca-4daf-ced8-d55522d8c3bb"
      },
      "execution_count": null,
      "outputs": [
        {
          "output_type": "stream",
          "name": "stdout",
          "text": [
            "Duplicata :  1\n",
            "Valeurs manquantes: age         0\n",
            "sex         0\n",
            "cp          0\n",
            "trestbps    1\n",
            "chol        3\n",
            "fbs         0\n",
            "restecg     0\n",
            "thalach     6\n",
            "exang       6\n",
            "oldpeak     0\n",
            "slope       0\n",
            "ca          3\n",
            "thal        0\n",
            "target      3\n",
            "dtype: int64\n",
            "(303, 14)\n"
          ]
        }
      ]
    },
    {
      "cell_type": "code",
      "source": [
        "#Proportion de malades et non malades selon le sexe des patients :Disparité de santé.\n",
        "proportion=df.groupby('sex')['target'].value_counts(normalize=True).mul(100).rename('Proportion')\n",
        "\n",
        "proportion.unstack().plot(kind='bar', stacked=True)\n",
        "plt.xlabel('Sexe')\n",
        "plt.ylabel('Proportion (%)')\n",
        "plt.title('Proportion de malades et non-malades par sexe')\n",
        "plt.show()"
      ],
      "metadata": {
        "colab": {
          "base_uri": "https://localhost:8080/",
          "height": 508
        },
        "id": "seAyuzw42D_Y",
        "outputId": "332f0ead-452e-4abb-a25c-6271f2e8b759"
      },
      "execution_count": null,
      "outputs": [
        {
          "output_type": "display_data",
          "data": {
            "text/plain": [
              "<Figure size 640x480 with 1 Axes>"
            ],
            "image/png": "[encoded data removed]"
          },
          "metadata": {}
        }
      ]
    },
    {
      "cell_type": "code",
      "source": [
        "#Occurences de patients malades et non malades selon l'âge : tendance générale selon certaine tranche d'age :\n",
        "result = df.groupby(['age', 'target']).size().unstack().fillna(0)\n",
        "result.plot(kind='bar', stacked=True)\n",
        "plt.xlabel('Âge')\n",
        "plt.ylabel('Occurrences')\n",
        "plt.title('Occurrences de patients malades et non malades par âge')\n",
        "plt.show()"
      ],
      "metadata": {
        "colab": {
          "base_uri": "https://localhost:8080/",
          "height": 478
        },
        "id": "uJncvkEGWYJV",
        "outputId": "5e9b5c55-938b-475a-e5fe-6d72e27ae0d3"
      },
      "execution_count": null,
      "outputs": [
        {
          "output_type": "display_data",
          "data": {
            "text/plain": [
              "<Figure size 640x480 with 1 Axes>"
            ],
            "image/png": "[encoded data removed]"
          },
          "metadata": {}
        }
      ]
    },
    {
      "cell_type": "code",
      "source": [
        "#moyenne d'age entre personnes saines et personnes malades : L'âge est-il un facteur de risque ?\n",
        "moy=df.groupby('target')['age'].mean()\n",
        "plt.bar(moy.index, moy, color=['blue', 'orange'])\n",
        "plt.title(\"Moyenne d'âge entre personnes saines(bleu) et personnes malades(orange)\")\n",
        "plt.xlabel(\"catégorie malade/saine\")\n",
        "plt.ylabel(\"Moyenne d'âge\")\n",
        "plt.show()"
      ],
      "metadata": {
        "colab": {
          "base_uri": "https://localhost:8080/",
          "height": 473
        },
        "id": "vFBg0gcVvAaI",
        "outputId": "d5ade264-aa8b-496e-eca2-c096bd62a268"
      },
      "execution_count": null,
      "outputs": [
        {
          "output_type": "display_data",
          "data": {
            "text/plain": [
              "<Figure size 640x480 with 1 Axes>"
            ],
            "image/png": "[encoded data removed]"
          },
          "metadata": {}
        }
      ]
    },
    {
      "cell_type": "markdown",
      "source": [
        "PIPELINE DE PREPARATION DU JEU DE DONNEES"
      ],
      "metadata": {
        "id": "ZTfkd68lxg2w"
      }
    },
    {
      "cell_type": "code",
      "source": [
        "#Boucle for pour déterminer les valeurs uniques sur les colonnes numériques\n",
        "for col in df.select_dtypes(include=['int', 'float']).columns:\n",
        "    print(df[col].unique())"
      ],
      "metadata": {
        "colab": {
          "base_uri": "https://localhost:8080/"
        },
        "id": "1Qh4-oTqdaDc",
        "outputId": "ac9c4f53-1ab8-46f3-d33d-b617ffaf250a"
      },
      "execution_count": null,
      "outputs": [
        {
          "output_type": "stream",
          "name": "stdout",
          "text": [
            "[63 37 41 56 57 44 52 54 48 49 64 58 50 66 43 69 59 42 61 40 71 51 65 53\n",
            " 46 45 39 47 62 34 35 29 55 60 67 68 74 76 70 38 77]\n",
            "[3 2 1 0]\n",
            "[145. 130. 120. 140. 172. 150. 110. 135. 160. 105. 125. 142. 155. 104.\n",
            " 138. 128. 108. 134. 122. 115. 118. 100. 124.  94. 112. 102. 152. 101.\n",
            " 132. 148. 178. 129. 180. 136. 126. 106. 156. 170. 146. 117. 200. 165.\n",
            " 174. 192. 144. 123. 154. 114. 164.  nan]\n",
            "[233. 250. 204. 236. 354. 192. 294. 263. 199. 168. 239. 275. 266. 211.\n",
            " 283. 219. 340. 226. 247. 234. 243. 302. 212. 175. 417. 197. 198. 177.\n",
            " 273. 213. 304. 232. 269. 360. 308. 245. 208. 264. 321. 325. 235. 257.\n",
            " 216. 256. 231. 141. 252. 201. 222. 260. 182. 303. 265. 309. 186. 203.\n",
            " 183. 220. 209. 258. 227. 261. 221. 205.  nan 318. 298. 564. 277. 214.\n",
            " 248. 255. 207. 223. 288. 160. 394. 315. 246. 244. 270. 195. 240. 196.\n",
            " 254. 126. 313. 262. 215. 193. 271. 268. 267. 210. 295. 306. 178. 242.\n",
            " 180. 228. 149. 278. 253. 342. 157. 286. 229. 284. 224. 206. 167. 230.\n",
            " 335. 276. 353. 225. 330. 290. 172. 305. 188. 282. 185. 326. 274. 164.\n",
            " 307. 249. 341. 407. 217. 174. 281. 289. 322. 299. 300. 293. 184. 409.\n",
            " 259. 200. 327. 237. 218. 319. 166. 311. 169. 187. 176. 241. 131.]\n",
            "[1 0]\n",
            "[0 1 2]\n",
            "[  150.   187.    nan   178.   163.   148.   153.   173.   162.   174.\n",
            "   160.   139.   171.   144.   158.   114.   151.   161.   179.   137.\n",
            "   157.   123.   152.   168.   140.   188.   125.   170.   165.   142.\n",
            "   180.   182.   172.   156.   115.   149.   146.   175.   186.   185.\n",
            "   159.   130.   190.   132.   143.   147.   154.   202.   166.   164.\n",
            "   184.   122. 19500.   169.   138.   111.   145.   194.   131.   133.\n",
            "   155.   167.   192.   121.    96.   126.   105.   181.   116.   108.\n",
            "   120.   112.   128.   109.   113.    99.   177.   141.   136.    97.\n",
            "   127.   103.   124.    88.   195.   106.    95.   117.    71.   118.\n",
            "   134.    90.]\n",
            "[ 0.  1. nan]\n",
            "[2.3 3.5 1.4 0.8 0.6 0.4 1.3 0.  0.5 1.6 1.2 0.2 1.8 1.  2.6 1.5 3.  2.4\n",
            " 0.1 1.9 4.2 1.1 2.  0.7 0.3 0.9 3.6 3.1 3.2 2.5 2.2 2.8 3.4 6.2 4.  5.6\n",
            " 2.9 2.1 3.8 4.4]\n",
            "[0 2 1]\n",
            "[ 0. nan  2.  1.  3.  4.]\n",
            "[1 2 3 0]\n",
            "[ 1. nan  0.]\n"
          ]
        }
      ]
    },
    {
      "cell_type": "code",
      "source": [
        "#Verification des types et quelques changements dans le dataframe :\n",
        "#Colonne sex : remplacement par les valeurs binaires : Male : 0 et Female : 1\n",
        "df['sex']=df['sex'].replace(to_replace=['Male', 'Female'], value=[0,1])\n",
        "df['sex'].info"
      ],
      "metadata": {
        "colab": {
          "base_uri": "https://localhost:8080/"
        },
        "id": "k5oFmfadV5pu",
        "outputId": "7ee484ca-c53f-4e00-e912-933c04f01eb2"
      },
      "execution_count": 52,
      "outputs": [
        {
          "output_type": "execute_result",
          "data": {
            "text/plain": [
              "<bound method Series.info of ID\n",
              "1012    0\n",
              "1264    0\n",
              "1217    1\n",
              "1300    0\n",
              "1049    1\n",
              "       ..\n",
              "1034    1\n",
              "1194    0\n",
              "1010    0\n",
              "1225    0\n",
              "1126    1\n",
              "Name: sex, Length: 303, dtype: int64>"
            ]
          },
          "metadata": {},
          "execution_count": 52
        }
      ]
    },
    {
      "cell_type": "code",
      "source": [
        "#La colonne Target est type float, changement pour le type int (0 : pas malade, 1: malade)\n",
        "#suppression des lignes de valeurs manquantes\n",
        "df=df.dropna(subset=['target'])\n",
        "df['target']=df['target'].astype(int )\n",
        "df['target'].info"
      ],
      "metadata": {
        "colab": {
          "base_uri": "https://localhost:8080/"
        },
        "id": "A7R8E0kbcgcP",
        "outputId": "78380c7e-295a-4601-88c4-b1cab96484ce"
      },
      "execution_count": 53,
      "outputs": [
        {
          "output_type": "stream",
          "name": "stderr",
          "text": [
            "<ipython-input-53-e6986eeef5c8>:4: SettingWithCopyWarning: \n",
            "A value is trying to be set on a copy of a slice from a DataFrame.\n",
            "Try using .loc[row_indexer,col_indexer] = value instead\n",
            "\n",
            "See the caveats in the documentation: https://pandas.pydata.org/pandas-docs/stable/user_guide/indexing.html#returning-a-view-versus-a-copy\n",
            "  df['target']=df['target'].astype(int )\n"
          ]
        },
        {
          "output_type": "execute_result",
          "data": {
            "text/plain": [
              "<bound method Series.info of ID\n",
              "1012    1\n",
              "1264    1\n",
              "1217    1\n",
              "1300    1\n",
              "1049    1\n",
              "       ..\n",
              "1034    0\n",
              "1194    0\n",
              "1010    0\n",
              "1225    0\n",
              "1126    0\n",
              "Name: target, Length: 300, dtype: int64>"
            ]
          },
          "metadata": {},
          "execution_count": 53
        }
      ]
    },
    {
      "cell_type": "code",
      "source": [
        "#Recherche et suppression des duplicas dans toutes les colonnes du dataframe\n",
        "df = df.drop_duplicates()"
      ],
      "metadata": {
        "id": "9a8mvWXvdT8h"
      },
      "execution_count": 54,
      "outputs": []
    },
    {
      "cell_type": "code",
      "source": [
        "#Pipeline de traitement:\n",
        "#Séparation des  variables caractéristiques de la variable cible :\n",
        "X = df.drop(\"target\", axis=1)\n",
        "y = df[\"target\"]\n",
        "\n",
        "\n",
        "#Liste des colonnes catégorielles\n",
        "categorical_columns = ['cp', 'restecg', 'slope', 'thal', 'ca','age']\n",
        "\n",
        "# Liste des colonnes continues\n",
        "continuous_columns = ['trestbps', 'chol','thalach', 'oldpeak' ]\n",
        "\n",
        "# Liste des colonnes binaires\n",
        "binary_columns = ['exang', 'fbs', 'sex']\n",
        "\n",
        "# Création du transformateur pour les colonnes catégorielles\n",
        "categorical_encoder = OneHotEncoder(sparse=False, drop='first')\n",
        "\n",
        "# Création du transformateur pour les colonnes continues\n",
        "continuous_imputer = Pipeline([\n",
        "    ('missing_values', FunctionTransformer(lambda x: x.replace(np.nan, x.median()))),\n",
        "    ('imputer', SimpleImputer(strategy='median'))\n",
        "])\n",
        "\n",
        "\n",
        "# Création du transformateur pour les colonnes binaires\n",
        "binary_imputer = SimpleImputer(strategy='most_frequent')\n",
        "\n",
        "\n",
        "# Création du transformateur pour toutes les colonnes\n",
        "preprocessor = ColumnTransformer([\n",
        "    ('imputer_median', continuous_imputer, continuous_columns),\n",
        "    ('imputer_mode', binary_imputer, binary_columns),\n",
        "    ('encoder', categorical_encoder, categorical_columns)])\n",
        "\n",
        "# Création de la pipeline de prétraitement des données\n",
        "pipeline = Pipeline([\n",
        "    (\"preprocessor\", preprocessor),\n",
        "    (\"scaler\", StandardScaler())\n",
        "])\n",
        "\n",
        "# Application de la pipeline de prétraitement des données sur le dataframe\n",
        "X_processed = pipeline.fit_transform(X)\n",
        "X_processed = pd.DataFrame(X_processed)"
      ],
      "metadata": {
        "id": "VrCaa4NLSPK7",
        "colab": {
          "base_uri": "https://localhost:8080/"
        },
        "outputId": "62dfe185-4385-4251-cc9e-9b589cff148a"
      },
      "execution_count": 55,
      "outputs": [
        {
          "output_type": "stream",
          "name": "stderr",
          "text": [
            "/usr/local/lib/python3.10/dist-packages/sklearn/preprocessing/_encoders.py:868: FutureWarning: `sparse` was renamed to `sparse_output` in version 1.2 and will be removed in 1.4. `sparse_output` is ignored unless you leave `sparse` to its default value.\n",
            "  warnings.warn(\n"
          ]
        }
      ]
    },
    {
      "cell_type": "code",
      "source": [
        "X_processed.info()"
      ],
      "metadata": {
        "colab": {
          "base_uri": "https://localhost:8080/"
        },
        "id": "dRuX8EFPfpFh",
        "outputId": "b887e0dd-4e5d-403d-bbeb-15dfd8581187"
      },
      "execution_count": 56,
      "outputs": [
        {
          "output_type": "stream",
          "name": "stdout",
          "text": [
            "<class 'pandas.core.frame.DataFrame'>\n",
            "RangeIndex: 299 entries, 0 to 298\n",
            "Data columns (total 62 columns):\n",
            " #   Column  Non-Null Count  Dtype  \n",
            "---  ------  --------------  -----  \n",
            " 0   0       299 non-null    float64\n",
            " 1   1       299 non-null    float64\n",
            " 2   2       299 non-null    float64\n",
            " 3   3       299 non-null    float64\n",
            " 4   4       299 non-null    float64\n",
            " 5   5       299 non-null    float64\n",
            " 6   6       299 non-null    float64\n",
            " 7   7       299 non-null    float64\n",
            " 8   8       299 non-null    float64\n",
            " 9   9       299 non-null    float64\n",
            " 10  10      299 non-null    float64\n",
            " 11  11      299 non-null    float64\n",
            " 12  12      299 non-null    float64\n",
            " 13  13      299 non-null    float64\n",
            " 14  14      299 non-null    float64\n",
            " 15  15      299 non-null    float64\n",
            " 16  16      299 non-null    float64\n",
            " 17  17      299 non-null    float64\n",
            " 18  18      299 non-null    float64\n",
            " 19  19      299 non-null    float64\n",
            " 20  20      299 non-null    float64\n",
            " 21  21      299 non-null    float64\n",
            " 22  22      299 non-null    float64\n",
            " 23  23      299 non-null    float64\n",
            " 24  24      299 non-null    float64\n",
            " 25  25      299 non-null    float64\n",
            " 26  26      299 non-null    float64\n",
            " 27  27      299 non-null    float64\n",
            " 28  28      299 non-null    float64\n",
            " 29  29      299 non-null    float64\n",
            " 30  30      299 non-null    float64\n",
            " 31  31      299 non-null    float64\n",
            " 32  32      299 non-null    float64\n",
            " 33  33      299 non-null    float64\n",
            " 34  34      299 non-null    float64\n",
            " 35  35      299 non-null    float64\n",
            " 36  36      299 non-null    float64\n",
            " 37  37      299 non-null    float64\n",
            " 38  38      299 non-null    float64\n",
            " 39  39      299 non-null    float64\n",
            " 40  40      299 non-null    float64\n",
            " 41  41      299 non-null    float64\n",
            " 42  42      299 non-null    float64\n",
            " 43  43      299 non-null    float64\n",
            " 44  44      299 non-null    float64\n",
            " 45  45      299 non-null    float64\n",
            " 46  46      299 non-null    float64\n",
            " 47  47      299 non-null    float64\n",
            " 48  48      299 non-null    float64\n",
            " 49  49      299 non-null    float64\n",
            " 50  50      299 non-null    float64\n",
            " 51  51      299 non-null    float64\n",
            " 52  52      299 non-null    float64\n",
            " 53  53      299 non-null    float64\n",
            " 54  54      299 non-null    float64\n",
            " 55  55      299 non-null    float64\n",
            " 56  56      299 non-null    float64\n",
            " 57  57      299 non-null    float64\n",
            " 58  58      299 non-null    float64\n",
            " 59  59      299 non-null    float64\n",
            " 60  60      299 non-null    float64\n",
            " 61  61      299 non-null    float64\n",
            "dtypes: float64(62)\n",
            "memory usage: 145.0 KB\n"
          ]
        }
      ]
    },
    {
      "cell_type": "markdown",
      "source": [
        " PIPELINE -MODELISATION"
      ],
      "metadata": {
        "id": "vPBue0ivfBSA"
      }
    },
    {
      "cell_type": "code",
      "source": [
        "#Séparation du jeu de données :\n",
        "X_train, X_test, y_train, y_test = train_test_split(X_processed, y, test_size=0.3, random_state=42)"
      ],
      "metadata": {
        "id": "tsDT7veQF5Z_"
      },
      "execution_count": 57,
      "outputs": []
    },
    {
      "cell_type": "code",
      "source": [
        "print(X_train, X_test, y_train, y_test)"
      ],
      "metadata": {
        "colab": {
          "base_uri": "https://localhost:8080/"
        },
        "id": "374tScOLpzJl",
        "outputId": "b42522cd-abcc-4f43-c517-a368056a4d96"
      },
      "execution_count": 58,
      "outputs": [
        {
          "output_type": "stream",
          "name": "stdout",
          "text": [
            "           0         1         2         3         4        5         6   \\\n",
            "224  2.179670  0.797282 -0.049556 -0.719549 -0.692963 -0.42091 -0.682412   \n",
            "68  -0.663543  0.218368 -0.060295 -0.547708 -0.692963 -0.42091 -0.682412   \n",
            "222 -0.663543  0.662202 -0.099672  0.311498 -0.692963 -0.42091 -0.682412   \n",
            "37   1.611027  2.186677 -0.056715 -0.204025 -0.692963 -0.42091  1.465390   \n",
            "16   1.042385 -0.399141 -0.089828  1.342545 -0.692963 -0.42091  1.465390   \n",
            "..        ...       ...       ...       ...       ...      ...       ...   \n",
            "188 -0.208629 -0.100035 -0.074614  0.998862  1.443078 -0.42091 -0.682412   \n",
            "71   0.473742  0.276259 -0.025393 -0.891390  1.443078 -0.42091 -0.682412   \n",
            "106 -0.663543 -0.051793 -0.046871  0.053736 -0.692963 -0.42091  1.465390   \n",
            "270 -1.232186  0.546419 -0.086248 -0.032184  1.443078 -0.42091 -0.682412   \n",
            "102 -0.151765 -0.978056 -0.045976 -0.891390 -0.692963 -0.42091 -0.682412   \n",
            "\n",
            "           7         8         9   ...        52        53        54  \\\n",
            "224 -0.448111 -0.630235  3.548367  ... -0.165805 -0.154831 -0.176166   \n",
            "68  -0.448111  1.586710 -0.281820  ... -0.165805 -0.154831 -0.176166   \n",
            "222  2.231591 -0.630235 -0.281820  ... -0.165805 -0.154831 -0.176166   \n",
            "37  -0.448111  1.586710 -0.281820  ...  6.031169 -0.154831 -0.176166   \n",
            "16  -0.448111 -0.630235  3.548367  ... -0.165805  6.458660 -0.176166   \n",
            "..        ...       ...       ...  ...       ...       ...       ...   \n",
            "188 -0.448111 -0.630235 -0.281820  ... -0.165805 -0.154831 -0.176166   \n",
            "71  -0.448111 -0.630235 -0.281820  ... -0.165805 -0.154831 -0.176166   \n",
            "106  2.231591 -0.630235 -0.281820  ... -0.165805 -0.154831 -0.176166   \n",
            "270 -0.448111 -0.630235 -0.281820  ... -0.165805 -0.154831 -0.176166   \n",
            "102 -0.448111  1.586710 -0.281820  ... -0.165805 -0.154831 -0.176166   \n",
            "\n",
            "           55        56        57        58        59        60        61  \n",
            "224 -0.116445 -0.100673 -0.116445 -0.100673 -0.057928 -0.057928 -0.057928  \n",
            "68  -0.116445 -0.100673 -0.116445 -0.100673 -0.057928 -0.057928 -0.057928  \n",
            "222 -0.116445 -0.100673 -0.116445 -0.100673 -0.057928 -0.057928 -0.057928  \n",
            "37  -0.116445 -0.100673 -0.116445 -0.100673 -0.057928 -0.057928 -0.057928  \n",
            "16  -0.116445 -0.100673 -0.116445 -0.100673 -0.057928 -0.057928 -0.057928  \n",
            "..        ...       ...       ...       ...       ...       ...       ...  \n",
            "188 -0.116445 -0.100673 -0.116445 -0.100673 -0.057928 -0.057928 -0.057928  \n",
            "71  -0.116445 -0.100673 -0.116445 -0.100673 -0.057928 -0.057928 -0.057928  \n",
            "106 -0.116445 -0.100673 -0.116445 -0.100673 -0.057928 -0.057928 -0.057928  \n",
            "270 -0.116445 -0.100673 -0.116445 -0.100673 -0.057928 -0.057928 -0.057928  \n",
            "102 -0.116445 -0.100673 -0.116445 -0.100673 -0.057928 -0.057928 -0.057928  \n",
            "\n",
            "[209 rows x 62 columns]            0         1         2         3         4         5         6   \\\n",
            "281  0.473742  1.241117 -0.084458  0.655180  1.443078 -0.420910 -0.682412   \n",
            "265 -0.094901  0.700796 -0.099672  0.483339  1.443078  2.375804 -0.682412   \n",
            "164  0.473742  0.411339 -0.048661  2.201750 -0.692963 -0.420910  1.465390   \n",
            "9    1.042385 -1.518376 -0.036132  0.483339 -0.692963 -0.420910 -0.682412   \n",
            "77  -1.516507 -0.100035 -0.054031 -0.375867  1.443078 -0.420910 -0.682412   \n",
            "..        ...       ...       ...       ...       ...       ...       ...   \n",
            "132 -0.322358  1.144631 -0.045976 -0.891390 -0.692963 -0.420910  1.465390   \n",
            "72  -0.549815 -0.650004 -0.044186 -0.719549 -0.692963 -0.420910  1.465390   \n",
            "15  -0.663543  1.800734 -0.054926 -0.891390 -0.692963 -0.420910  1.465390   \n",
            "10   0.473742 -0.148278 -0.048661  0.139657 -0.692963 -0.420910 -0.682412   \n",
            "157 -0.094901 -0.495627 -0.045976 -0.891390 -0.692963 -0.420910 -0.682412   \n",
            "\n",
            "           7         8        9   ...        52        53        54        55  \\\n",
            "281 -0.448111 -0.630235 -0.28182  ... -0.165805 -0.154831 -0.176166 -0.116445   \n",
            "265 -0.448111 -0.630235 -0.28182  ... -0.165805 -0.154831 -0.176166 -0.116445   \n",
            "164 -0.448111 -0.630235 -0.28182  ... -0.165805 -0.154831 -0.176166 -0.116445   \n",
            "9   -0.448111  1.586710 -0.28182  ... -0.165805 -0.154831 -0.176166 -0.116445   \n",
            "77  -0.448111  1.586710 -0.28182  ... -0.165805 -0.154831 -0.176166 -0.116445   \n",
            "..        ...       ...      ...  ...       ...       ...       ...       ...   \n",
            "132  2.231591 -0.630235 -0.28182  ... -0.165805 -0.154831 -0.176166 -0.116445   \n",
            "72  -0.448111  1.586710 -0.28182  ... -0.165805 -0.154831 -0.176166 -0.116445   \n",
            "15  -0.448111  1.586710 -0.28182  ... -0.165805 -0.154831 -0.176166 -0.116445   \n",
            "10  -0.448111 -0.630235 -0.28182  ... -0.165805 -0.154831 -0.176166 -0.116445   \n",
            "157  2.231591 -0.630235 -0.28182  ... -0.165805 -0.154831 -0.176166 -0.116445   \n",
            "\n",
            "           56        57        58        59        60        61  \n",
            "281 -0.100673 -0.116445 -0.100673 -0.057928 -0.057928 -0.057928  \n",
            "265 -0.100673 -0.116445 -0.100673 -0.057928 -0.057928 -0.057928  \n",
            "164 -0.100673 -0.116445 -0.100673 -0.057928 -0.057928 -0.057928  \n",
            "9   -0.100673 -0.116445 -0.100673 -0.057928 -0.057928 -0.057928  \n",
            "77  -0.100673 -0.116445 -0.100673 -0.057928 -0.057928 -0.057928  \n",
            "..        ...       ...       ...       ...       ...       ...  \n",
            "132 -0.100673 -0.116445 -0.100673 -0.057928 -0.057928 -0.057928  \n",
            "72  -0.100673 -0.116445 -0.100673 -0.057928 -0.057928 -0.057928  \n",
            "15  -0.100673 -0.116445 -0.100673 -0.057928 -0.057928 -0.057928  \n",
            "10  -0.100673 -0.116445 -0.100673 -0.057928 -0.057928 -0.057928  \n",
            "157 -0.100673 -0.116445 -0.100673 -0.057928 -0.057928 -0.057928  \n",
            "\n",
            "[90 rows x 62 columns] ID\n",
            "1232    0\n",
            "1171    1\n",
            "1292    0\n",
            "1167    1\n",
            "1121    1\n",
            "       ..\n",
            "1027    0\n",
            "1178    1\n",
            "1254    1\n",
            "1166    0\n",
            "1006    1\n",
            "Name: target, Length: 209, dtype: int64 ID\n",
            "1242    0\n",
            "1095    0\n",
            "1223    0\n",
            "1149    1\n",
            "1163    1\n",
            "       ..\n",
            "1032    1\n",
            "1156    1\n",
            "1054    1\n",
            "1160    1\n",
            "1080    1\n",
            "Name: target, Length: 90, dtype: int64\n"
          ]
        }
      ]
    },
    {
      "cell_type": "code",
      "source": [
        "# Création de la pipeline\n",
        "pipeline_lr = Pipeline([\n",
        "    ('scaler', StandardScaler()),\n",
        "    ('classifier', LogisticRegression())])\n",
        "\n",
        "pipeline_dt = Pipeline([\n",
        "    ('scaler', StandardScaler()),\n",
        "    ('classifier', DecisionTreeClassifier())])\n",
        "\n",
        "pipeline_rf = Pipeline([\n",
        "    ('scaler', StandardScaler()),\n",
        "    ('classifier', RandomForestClassifier())])\n",
        "\n",
        "pipeline_svm = Pipeline([\n",
        "    ('scaler', StandardScaler()),\n",
        "    ('classifier', SVC(probability=True))])\n",
        "\n",
        "pipeline_nb = Pipeline([\n",
        "    ('classifier', GaussianNB())])\n",
        "\n",
        "pipeline_mlp = Pipeline([\n",
        "    ('scaler', StandardScaler()),\n",
        "    ('classifier', MLPClassifier(max_iter=500))])\n",
        "\n",
        "# Liste des pipelines\n",
        "pipelines = [pipeline_lr, pipeline_dt, pipeline_rf, pipeline_svm, pipeline_nb, pipeline_mlp]\n",
        "\n",
        "# Exécution\n",
        "for pipeline in pipelines:\n",
        "    # Entraînement du modèle sur les données d'entraînement\n",
        "    pipeline.fit(X_train, y_train)\n",
        "\n",
        "    # Prédiction sur les données d'entraînement\n",
        "    y_pred_train = pipeline.predict(X_train)\n",
        "\n",
        "    # Prédiction sur les données de test\n",
        "    y_pred_test = pipeline.predict(X_test)\n",
        "\n",
        "\n",
        "    # Calcul du score d'exactitude sur les données d'entraînement et de test\n",
        "    accuracy_train = accuracy_score(y_train, y_pred_train)\n",
        "    accuracy_test = accuracy_score(y_test, y_pred_test)\n",
        "\n",
        "    # Obtention du nom du modèle de classification\n",
        "    classifier_name = pipeline.named_steps['classifier'].__class__.__name__\n",
        "\n",
        "    print(f\"{classifier_name}\")\n",
        "    print(f\"Score sur les données d'entraînement : {accuracy_train}\")\n",
        "    print(f\"Score sur les données de test : {accuracy_test}\")\n",
        "    print()"
      ],
      "metadata": {
        "colab": {
          "base_uri": "https://localhost:8080/"
        },
        "id": "nUJP68TpIowQ",
        "outputId": "6d398269-735f-45c3-8e5c-991003c2ebf1"
      },
      "execution_count": 59,
      "outputs": [
        {
          "output_type": "stream",
          "name": "stdout",
          "text": [
            "LogisticRegression\n",
            "Score sur les données d'entraînement : 0.9186602870813397\n",
            "Score sur les données de test : 0.8\n",
            "\n",
            "DecisionTreeClassifier\n",
            "Score sur les données d'entraînement : 1.0\n",
            "Score sur les données de test : 0.7444444444444445\n",
            "\n",
            "RandomForestClassifier\n",
            "Score sur les données d'entraînement : 1.0\n",
            "Score sur les données de test : 0.7888888888888889\n",
            "\n",
            "SVC\n",
            "Score sur les données d'entraînement : 0.937799043062201\n",
            "Score sur les données de test : 0.8333333333333334\n",
            "\n",
            "GaussianNB\n",
            "Score sur les données d'entraînement : 0.5598086124401914\n",
            "Score sur les données de test : 0.45555555555555555\n",
            "\n",
            "MLPClassifier\n",
            "Score sur les données d'entraînement : 1.0\n",
            "Score sur les données de test : 0.8111111111111111\n",
            "\n"
          ]
        }
      ]
    },
    {
      "cell_type": "markdown",
      "source": [
        "Quelques observations :\n",
        "La Régression logistique obtient une précision élévée sur les données d'entrainement  et une précision légèrement inférieure sur les données test. Cela suggère un certain sur ajustement (overfitting)\n",
        "\n",
        "Le DecisionTreeClassifier et le RandomForestClassifier  et le MLP ont une précision de 100% sur les données d'entrainement (adaptation parfaite) et une précision inférieure sur les données test (overfitting)\n",
        "\n",
        "Le SVM montre une performance assez équilibrée, ce qui suggère une bonne capacité de généralisation du modèle aux nouvelles données\n",
        "\n",
        "Le Classifier naif de Bayes a une précision relativement faible sur les données d'entrainement et les données test. Cela indique un modèle non adapté (ou besoin d'un pré-traitement des données plus approfondi ?)\n",
        "\n"
      ],
      "metadata": {
        "id": "GKcZgkleooj5"
      }
    },
    {
      "cell_type": "code",
      "source": [
        "#Evaluation graphique des performances de chaque modèle en terme de spécificité (taux de faux positifs) et de sensibilité (taux de vrais positifs)\n",
        "# Liste des noms de modèles\n",
        "classifier_names = ['Logistic Regression', 'Decision Tree', 'Random Forest', 'SVM', 'Naive Bayes', 'MLP']\n",
        "\n",
        "# Liste des pipelines\n",
        "pipelines = [pipeline_lr, pipeline_dt, pipeline_rf, pipeline_svm, pipeline_nb, pipeline_mlp]\n",
        "\n",
        "# Création d'un dictionnaire pour stocker les taux de faux positifs (FPR) et les taux de vrais positifs (TPR)\n",
        "roc_dict = {}\n",
        "\n",
        "# Exécution\n",
        "for pipeline, classifier_name in zip(pipelines, classifier_names):\n",
        "    # Entraînement du modèle sur les données d'entraînement\n",
        "    pipeline.fit(X_train, y_train)\n",
        "\n",
        "    # Prédiction de probabilités sur les données de test\n",
        "    y_pred_proba = pipeline.predict_proba(X_test)[:, 1]\n",
        "\n",
        "    # Calcul des taux de faux positifs (FPR) et des taux de vrais positifs (TPR)\n",
        "    fpr, tpr, _ = roc_curve(y_test, y_pred_proba)\n",
        "\n",
        "    # Calcul de l'AUC (Area Under the Curve)\n",
        "    roc_auc = auc(fpr, tpr)\n",
        "\n",
        "    # Stockage des résultats dans le dictionnaire\n",
        "    roc_dict[classifier_name] = (fpr, tpr, roc_auc)\n",
        "\n",
        "    # Affichage des résultats\n",
        "    print(f\"{classifier_name}\")\n",
        "    print(f\"AUC : {roc_auc}\")\n",
        "    print()\n",
        "\n",
        "# Création du graphique ROC\n",
        "plt.figure(figsize=(8, 6))\n",
        "for classifier_name, (fpr, tpr, roc_auc) in roc_dict.items():\n",
        "    plt.plot(fpr, tpr, label=f'{classifier_name} (AUC = {roc_auc:.2f})')\n",
        "\n",
        "plt.plot([0, 1], [0, 1], 'k--')\n",
        "plt.xlim([0.0, 1.0])\n",
        "plt.ylim([0.0, 1.05])\n",
        "plt.xlabel('Taux de faux positifs (FPR)')\n",
        "plt.ylabel('Taux de vrais positifs (TPR)')\n",
        "plt.title('Courbe ROC')\n",
        "plt.legend(loc=\"lower right\")\n",
        "plt.show()"
      ],
      "metadata": {
        "colab": {
          "base_uri": "https://localhost:8080/",
          "height": 876
        },
        "id": "due3Ek5DdDEE",
        "outputId": "61ad6f69-6aff-4d1b-967b-5714e341dfd8"
      },
      "execution_count": 62,
      "outputs": [
        {
          "output_type": "stream",
          "name": "stdout",
          "text": [
            "Logistic Regression\n",
            "AUC : 0.9010708822029576\n",
            "\n",
            "Decision Tree\n",
            "AUC : 0.7598164201937787\n",
            "\n",
            "Random Forest\n",
            "AUC : 0.9413564507904131\n",
            "\n",
            "SVM\n",
            "AUC : 0.9122896481387047\n",
            "\n",
            "Naive Bayes\n",
            "AUC : 0.755481896991331\n",
            "\n",
            "MLP\n",
            "AUC : 0.8913819479857216\n",
            "\n"
          ]
        },
        {
          "output_type": "display_data",
          "data": {
            "text/plain": [
              "<Figure size 800x600 with 1 Axes>"
            ],
            "image/png": "[encoded data removed]"
          },
          "metadata": {}
        }
      ]
    },
    {
      "cell_type": "markdown",
      "source": [
        "Les modèles de Logistic Regression, Random Forest, SVM présentent des scores d'exactitude élévée, suggérant une bonne capacité de prédiction."
      ],
      "metadata": {
        "id": "c3YT2IEx0V3W"
      }
    }
  ]
}